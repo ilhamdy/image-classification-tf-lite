{
  "nbformat": 4,
  "nbformat_minor": 0,
  "metadata": {
    "colab": {
      "provenance": [],
      "collapsed_sections": []
    },
    "kernelspec": {
      "name": "python3",
      "display_name": "Python 3"
    },
    "language_info": {
      "name": "python"
    },
    "accelerator": "GPU",
    "gpuClass": "standard"
  },
  "cells": [
    {
      "cell_type": "markdown",
      "source": [
        "# Download Dataset dari Kaggle"
      ],
      "metadata": {
        "id": "Fti8y2e-wkTu"
      }
    },
    {
      "cell_type": "code",
      "source": [
        "!pip install kaggle -q      \n",
        "!rm -rf /root/.kaggle.    \n",
        "!mkdir /root/.kaggle       \n",
        "!mv kaggle.json /root/.kaggle/kaggle.json   \n",
        "!ls /root/.kaggle/kaggle.json\n",
        "!kaggle datasets download -d ashishsaxena2209/animal-image-datasetdog-cat-and-panda"
      ],
      "metadata": {
        "colab": {
          "base_uri": "https://localhost:8080/"
        },
        "id": "9MmWcFirLoge",
        "outputId": "3760b7fb-8ba4-4fb5-b168-3184be6a8a1c"
      },
      "execution_count": 1,
      "outputs": [
        {
          "output_type": "stream",
          "name": "stdout",
          "text": [
            "mkdir: cannot create directory ‘/root/.kaggle’: File exists\n",
            "mv: cannot stat 'kaggle.json': No such file or directory\n",
            "/root/.kaggle/kaggle.json\n",
            "Warning: Your Kaggle API key is readable by other users on this system! To fix this, you can run 'chmod 600 /root/.kaggle/kaggle.json'\n",
            "animal-image-datasetdog-cat-and-panda.zip: Skipping, found more recently modified local copy (use --force to force download)\n"
          ]
        }
      ]
    },
    {
      "cell_type": "markdown",
      "source": [
        "# Unzip File"
      ],
      "metadata": {
        "id": "llPxpZOewqOx"
      }
    },
    {
      "cell_type": "code",
      "source": [
        "import zipfile\n",
        "zip_ref = zipfile.ZipFile('/content/animal-image-datasetdog-cat-and-panda.zip', 'r')\n",
        "zip_ref.extractall('tmp')\n",
        "zip_ref.close()"
      ],
      "metadata": {
        "id": "CfVuC2jqL8GB"
      },
      "execution_count": 2,
      "outputs": []
    },
    {
      "cell_type": "markdown",
      "source": [
        "# Membuat File Dataframe"
      ],
      "metadata": {
        "id": "WCf9dApPxAi-"
      }
    },
    {
      "cell_type": "code",
      "source": [
        "import numpy as np\n",
        "import pandas as pd\n",
        "from pathlib import Path\n",
        "import os.path\n",
        "\n",
        "from sklearn.model_selection import train_test_split\n",
        "\n",
        "import tensorflow as tf\n",
        "from tensorflow import keras\n",
        "from tensorflow.keras import layers\n",
        "from tensorflow.keras.preprocessing import image\n",
        "from tensorflow.keras.callbacks import EarlyStopping\n",
        "from keras.preprocessing.image import ImageDataGenerator\n",
        "from keras.models import Sequential"
      ],
      "metadata": {
        "id": "BMJiO5UVM8Io"
      },
      "execution_count": 3,
      "outputs": []
    },
    {
      "cell_type": "code",
      "source": [
        "image_dir = Path('/content/tmp/animals/animals')"
      ],
      "metadata": {
        "id": "EZv1h1mfQKCp"
      },
      "execution_count": 4,
      "outputs": []
    },
    {
      "cell_type": "code",
      "source": [
        "filepaths = list(image_dir.glob(r'**/*.jpg'))\n",
        "labels = list(map(lambda x: os.path.split(os.path.split(x)[0])[1], filepaths))\n",
        "\n",
        "filepaths = pd.Series(filepaths, name='Filepath').astype(str)\n",
        "labels = pd.Series(labels, name='Label')"
      ],
      "metadata": {
        "id": "ZyRj6s9XQOEt"
      },
      "execution_count": 5,
      "outputs": []
    },
    {
      "cell_type": "code",
      "source": [
        "image_df = pd.concat([filepaths, labels], axis=1)"
      ],
      "metadata": {
        "id": "tSOs8fUmQYfi"
      },
      "execution_count": 6,
      "outputs": []
    },
    {
      "cell_type": "code",
      "source": [
        "image_df['Label'] = image_df['Label'].apply(lambda x: np.NaN if x[-2:] == 'GT' else x)\n",
        "image_df = image_df.dropna(axis=0)"
      ],
      "metadata": {
        "id": "MHwEfT10Qc15"
      },
      "execution_count": 7,
      "outputs": []
    },
    {
      "cell_type": "code",
      "source": [
        "image_df"
      ],
      "metadata": {
        "colab": {
          "base_uri": "https://localhost:8080/",
          "height": 424
        },
        "id": "LYgmgSgtSxaj",
        "outputId": "bf29ff7e-ba13-4f45-c887-ad7fa3146897"
      },
      "execution_count": 8,
      "outputs": [
        {
          "output_type": "execute_result",
          "data": {
            "text/plain": [
              "                                               Filepath  Label\n",
              "0     /content/tmp/animals/animals/panda/panda_00207...  panda\n",
              "1     /content/tmp/animals/animals/panda/panda_00888...  panda\n",
              "2     /content/tmp/animals/animals/panda/panda_00788...  panda\n",
              "3     /content/tmp/animals/animals/panda/panda_00908...  panda\n",
              "4     /content/tmp/animals/animals/panda/panda_00491...  panda\n",
              "...                                                 ...    ...\n",
              "2995   /content/tmp/animals/animals/dogs/dogs_00543.jpg   dogs\n",
              "2996   /content/tmp/animals/animals/dogs/dogs_00665.jpg   dogs\n",
              "2997   /content/tmp/animals/animals/dogs/dogs_00369.jpg   dogs\n",
              "2998   /content/tmp/animals/animals/dogs/dogs_00688.jpg   dogs\n",
              "2999   /content/tmp/animals/animals/dogs/dogs_00170.jpg   dogs\n",
              "\n",
              "[3000 rows x 2 columns]"
            ],
            "text/html": [
              "\n",
              "  <div id=\"df-1895bd80-a09e-4d2f-9960-23bb936635f3\">\n",
              "    <div class=\"colab-df-container\">\n",
              "      <div>\n",
              "<style scoped>\n",
              "    .dataframe tbody tr th:only-of-type {\n",
              "        vertical-align: middle;\n",
              "    }\n",
              "\n",
              "    .dataframe tbody tr th {\n",
              "        vertical-align: top;\n",
              "    }\n",
              "\n",
              "    .dataframe thead th {\n",
              "        text-align: right;\n",
              "    }\n",
              "</style>\n",
              "<table border=\"1\" class=\"dataframe\">\n",
              "  <thead>\n",
              "    <tr style=\"text-align: right;\">\n",
              "      <th></th>\n",
              "      <th>Filepath</th>\n",
              "      <th>Label</th>\n",
              "    </tr>\n",
              "  </thead>\n",
              "  <tbody>\n",
              "    <tr>\n",
              "      <th>0</th>\n",
              "      <td>/content/tmp/animals/animals/panda/panda_00207...</td>\n",
              "      <td>panda</td>\n",
              "    </tr>\n",
              "    <tr>\n",
              "      <th>1</th>\n",
              "      <td>/content/tmp/animals/animals/panda/panda_00888...</td>\n",
              "      <td>panda</td>\n",
              "    </tr>\n",
              "    <tr>\n",
              "      <th>2</th>\n",
              "      <td>/content/tmp/animals/animals/panda/panda_00788...</td>\n",
              "      <td>panda</td>\n",
              "    </tr>\n",
              "    <tr>\n",
              "      <th>3</th>\n",
              "      <td>/content/tmp/animals/animals/panda/panda_00908...</td>\n",
              "      <td>panda</td>\n",
              "    </tr>\n",
              "    <tr>\n",
              "      <th>4</th>\n",
              "      <td>/content/tmp/animals/animals/panda/panda_00491...</td>\n",
              "      <td>panda</td>\n",
              "    </tr>\n",
              "    <tr>\n",
              "      <th>...</th>\n",
              "      <td>...</td>\n",
              "      <td>...</td>\n",
              "    </tr>\n",
              "    <tr>\n",
              "      <th>2995</th>\n",
              "      <td>/content/tmp/animals/animals/dogs/dogs_00543.jpg</td>\n",
              "      <td>dogs</td>\n",
              "    </tr>\n",
              "    <tr>\n",
              "      <th>2996</th>\n",
              "      <td>/content/tmp/animals/animals/dogs/dogs_00665.jpg</td>\n",
              "      <td>dogs</td>\n",
              "    </tr>\n",
              "    <tr>\n",
              "      <th>2997</th>\n",
              "      <td>/content/tmp/animals/animals/dogs/dogs_00369.jpg</td>\n",
              "      <td>dogs</td>\n",
              "    </tr>\n",
              "    <tr>\n",
              "      <th>2998</th>\n",
              "      <td>/content/tmp/animals/animals/dogs/dogs_00688.jpg</td>\n",
              "      <td>dogs</td>\n",
              "    </tr>\n",
              "    <tr>\n",
              "      <th>2999</th>\n",
              "      <td>/content/tmp/animals/animals/dogs/dogs_00170.jpg</td>\n",
              "      <td>dogs</td>\n",
              "    </tr>\n",
              "  </tbody>\n",
              "</table>\n",
              "<p>3000 rows × 2 columns</p>\n",
              "</div>\n",
              "      <button class=\"colab-df-convert\" onclick=\"convertToInteractive('df-1895bd80-a09e-4d2f-9960-23bb936635f3')\"\n",
              "              title=\"Convert this dataframe to an interactive table.\"\n",
              "              style=\"display:none;\">\n",
              "        \n",
              "  <svg xmlns=\"http://www.w3.org/2000/svg\" height=\"24px\"viewBox=\"0 0 24 24\"\n",
              "       width=\"24px\">\n",
              "    <path d=\"M0 0h24v24H0V0z\" fill=\"none\"/>\n",
              "    <path d=\"M18.56 5.44l.94 2.06.94-2.06 2.06-.94-2.06-.94-.94-2.06-.94 2.06-2.06.94zm-11 1L8.5 8.5l.94-2.06 2.06-.94-2.06-.94L8.5 2.5l-.94 2.06-2.06.94zm10 10l.94 2.06.94-2.06 2.06-.94-2.06-.94-.94-2.06-.94 2.06-2.06.94z\"/><path d=\"M17.41 7.96l-1.37-1.37c-.4-.4-.92-.59-1.43-.59-.52 0-1.04.2-1.43.59L10.3 9.45l-7.72 7.72c-.78.78-.78 2.05 0 2.83L4 21.41c.39.39.9.59 1.41.59.51 0 1.02-.2 1.41-.59l7.78-7.78 2.81-2.81c.8-.78.8-2.07 0-2.86zM5.41 20L4 18.59l7.72-7.72 1.47 1.35L5.41 20z\"/>\n",
              "  </svg>\n",
              "      </button>\n",
              "      \n",
              "  <style>\n",
              "    .colab-df-container {\n",
              "      display:flex;\n",
              "      flex-wrap:wrap;\n",
              "      gap: 12px;\n",
              "    }\n",
              "\n",
              "    .colab-df-convert {\n",
              "      background-color: #E8F0FE;\n",
              "      border: none;\n",
              "      border-radius: 50%;\n",
              "      cursor: pointer;\n",
              "      display: none;\n",
              "      fill: #1967D2;\n",
              "      height: 32px;\n",
              "      padding: 0 0 0 0;\n",
              "      width: 32px;\n",
              "    }\n",
              "\n",
              "    .colab-df-convert:hover {\n",
              "      background-color: #E2EBFA;\n",
              "      box-shadow: 0px 1px 2px rgba(60, 64, 67, 0.3), 0px 1px 3px 1px rgba(60, 64, 67, 0.15);\n",
              "      fill: #174EA6;\n",
              "    }\n",
              "\n",
              "    [theme=dark] .colab-df-convert {\n",
              "      background-color: #3B4455;\n",
              "      fill: #D2E3FC;\n",
              "    }\n",
              "\n",
              "    [theme=dark] .colab-df-convert:hover {\n",
              "      background-color: #434B5C;\n",
              "      box-shadow: 0px 1px 3px 1px rgba(0, 0, 0, 0.15);\n",
              "      filter: drop-shadow(0px 1px 2px rgba(0, 0, 0, 0.3));\n",
              "      fill: #FFFFFF;\n",
              "    }\n",
              "  </style>\n",
              "\n",
              "      <script>\n",
              "        const buttonEl =\n",
              "          document.querySelector('#df-1895bd80-a09e-4d2f-9960-23bb936635f3 button.colab-df-convert');\n",
              "        buttonEl.style.display =\n",
              "          google.colab.kernel.accessAllowed ? 'block' : 'none';\n",
              "\n",
              "        async function convertToInteractive(key) {\n",
              "          const element = document.querySelector('#df-1895bd80-a09e-4d2f-9960-23bb936635f3');\n",
              "          const dataTable =\n",
              "            await google.colab.kernel.invokeFunction('convertToInteractive',\n",
              "                                                     [key], {});\n",
              "          if (!dataTable) return;\n",
              "\n",
              "          const docLinkHtml = 'Like what you see? Visit the ' +\n",
              "            '<a target=\"_blank\" href=https://colab.research.google.com/notebooks/data_table.ipynb>data table notebook</a>'\n",
              "            + ' to learn more about interactive tables.';\n",
              "          element.innerHTML = '';\n",
              "          dataTable['output_type'] = 'display_data';\n",
              "          await google.colab.output.renderOutput(dataTable, element);\n",
              "          const docLink = document.createElement('div');\n",
              "          docLink.innerHTML = docLinkHtml;\n",
              "          element.appendChild(docLink);\n",
              "        }\n",
              "      </script>\n",
              "    </div>\n",
              "  </div>\n",
              "  "
            ]
          },
          "metadata": {},
          "execution_count": 8
        }
      ]
    },
    {
      "cell_type": "code",
      "source": [
        "image_df['Label'].value_counts()"
      ],
      "metadata": {
        "colab": {
          "base_uri": "https://localhost:8080/"
        },
        "id": "M7sqRn5DTTnL",
        "outputId": "a09f791b-a1ac-49b6-a319-ad6cac08c0aa"
      },
      "execution_count": 9,
      "outputs": [
        {
          "output_type": "execute_result",
          "data": {
            "text/plain": [
              "panda    1000\n",
              "cats     1000\n",
              "dogs     1000\n",
              "Name: Label, dtype: int64"
            ]
          },
          "metadata": {},
          "execution_count": 9
        }
      ]
    },
    {
      "cell_type": "markdown",
      "source": [
        "# Split Training dan Testing"
      ],
      "metadata": {
        "id": "pPECSxskxXNn"
      }
    },
    {
      "cell_type": "code",
      "source": [
        "train_generator = tf.keras.preprocessing.image.ImageDataGenerator(\n",
        "    preprocessing_function = tf.keras.applications.vgg16.preprocess_input,\n",
        "    validation_split=0.2\n",
        ")\n",
        "\n",
        "test_generator = tf.keras.preprocessing.image.ImageDataGenerator(\n",
        "    preprocessing_function = tf.keras.applications.vgg16.preprocess_input,\n",
        "    validation_split=0.2\n",
        ")"
      ],
      "metadata": {
        "id": "ESGsd3lhUBgJ"
      },
      "execution_count": 12,
      "outputs": []
    },
    {
      "cell_type": "code",
      "source": [
        "train_images = train_generator.flow_from_dataframe(\n",
        "    dataframe=image_df,\n",
        "    x_col='Filepath',\n",
        "    y_col='Label',\n",
        "    target_size=(224, 224),\n",
        "    color_mode='rgb',\n",
        "    class_mode='categorical',\n",
        "    batch_size=32,\n",
        "    shuffle=True,\n",
        "    seed=42,\n",
        "    subset='training'\n",
        ")\n",
        "\n",
        "val_images = test_generator.flow_from_dataframe(\n",
        "    dataframe=image_df,\n",
        "    x_col='Filepath',\n",
        "    y_col='Label',\n",
        "    target_size=(224, 224),\n",
        "    color_mode='rgb',\n",
        "    class_mode='categorical',\n",
        "    batch_size=32,\n",
        "    shuffle=False,\n",
        "    subset='validation'\n",
        ")"
      ],
      "metadata": {
        "colab": {
          "base_uri": "https://localhost:8080/"
        },
        "id": "dvWnrQi7UIe6",
        "outputId": "51fa7a9d-c834-410b-fee7-7d3b4f100c88"
      },
      "execution_count": 15,
      "outputs": [
        {
          "output_type": "stream",
          "name": "stdout",
          "text": [
            "Found 2400 validated image filenames belonging to 3 classes.\n",
            "Found 600 validated image filenames belonging to 3 classes.\n"
          ]
        }
      ]
    },
    {
      "cell_type": "markdown",
      "source": [
        "# Membuat Model"
      ],
      "metadata": {
        "id": "-iJXs_wTx389"
      }
    },
    {
      "cell_type": "code",
      "source": [
        "model=Sequential()"
      ],
      "metadata": {
        "id": "NzkcfgQVoRg1"
      },
      "execution_count": 16,
      "outputs": []
    },
    {
      "cell_type": "code",
      "source": [
        "model.add(tf.keras.applications.VGG16(include_top=False, pooling='avg', weights='imagenet',))"
      ],
      "metadata": {
        "id": "KKDOwzaxnskV"
      },
      "execution_count": 17,
      "outputs": []
    },
    {
      "cell_type": "code",
      "source": [
        "model.add(layers.Dense(3, activation='softmax'))\n",
        "model.layers"
      ],
      "metadata": {
        "colab": {
          "base_uri": "https://localhost:8080/"
        },
        "id": "QclPbIxJqH6J",
        "outputId": "a3f8e76f-fcc1-4074-ca86-f2d3459e148c"
      },
      "execution_count": 18,
      "outputs": [
        {
          "output_type": "execute_result",
          "data": {
            "text/plain": [
              "[<keras.engine.functional.Functional at 0x7f6d40343190>,\n",
              " <keras.layers.core.dense.Dense at 0x7f6d557e8810>]"
            ]
          },
          "metadata": {},
          "execution_count": 18
        }
      ]
    },
    {
      "cell_type": "code",
      "source": [
        "model.layers[0].layers"
      ],
      "metadata": {
        "colab": {
          "base_uri": "https://localhost:8080/"
        },
        "id": "H97kf4-irCoc",
        "outputId": "e175e6e4-23f9-4a52-f7ac-d2fd05a89944"
      },
      "execution_count": 19,
      "outputs": [
        {
          "output_type": "execute_result",
          "data": {
            "text/plain": [
              "[<keras.engine.input_layer.InputLayer at 0x7f6d56b19e90>,\n",
              " <keras.layers.convolutional.conv2d.Conv2D at 0x7f6d557a7110>,\n",
              " <keras.layers.convolutional.conv2d.Conv2D at 0x7f6d557a73d0>,\n",
              " <keras.layers.pooling.max_pooling2d.MaxPooling2D at 0x7f6d5580aa50>,\n",
              " <keras.layers.convolutional.conv2d.Conv2D at 0x7f6d5569add0>,\n",
              " <keras.layers.convolutional.conv2d.Conv2D at 0x7f6d5569a190>,\n",
              " <keras.layers.pooling.max_pooling2d.MaxPooling2D at 0x7f6d40381dd0>,\n",
              " <keras.layers.convolutional.conv2d.Conv2D at 0x7f6d40388810>,\n",
              " <keras.layers.convolutional.conv2d.Conv2D at 0x7f6d40388b10>,\n",
              " <keras.layers.convolutional.conv2d.Conv2D at 0x7f6d4037c650>,\n",
              " <keras.layers.pooling.max_pooling2d.MaxPooling2D at 0x7f6d4039bc50>,\n",
              " <keras.layers.convolutional.conv2d.Conv2D at 0x7f6d403972d0>,\n",
              " <keras.layers.convolutional.conv2d.Conv2D at 0x7f6d40390610>,\n",
              " <keras.layers.convolutional.conv2d.Conv2D at 0x7f6d40390050>,\n",
              " <keras.layers.pooling.max_pooling2d.MaxPooling2D at 0x7f6d4032b150>,\n",
              " <keras.layers.convolutional.conv2d.Conv2D at 0x7f6d40324490>,\n",
              " <keras.layers.convolutional.conv2d.Conv2D at 0x7f6d40324b50>,\n",
              " <keras.layers.convolutional.conv2d.Conv2D at 0x7f6d40332d90>,\n",
              " <keras.layers.pooling.max_pooling2d.MaxPooling2D at 0x7f6d40337ed0>,\n",
              " <keras.layers.pooling.global_average_pooling2d.GlobalAveragePooling2D at 0x7f6d40324390>]"
            ]
          },
          "metadata": {},
          "execution_count": 19
        }
      ]
    },
    {
      "cell_type": "code",
      "source": [
        "model.layers[0].trainable=False\n",
        "model.compile(loss='categorical_crossentropy',\n",
        "              optimizer=tf.optimizers.Adam(),\n",
        "              metrics=['accuracy'])"
      ],
      "metadata": {
        "id": "w5qpne0ErZjr"
      },
      "execution_count": 20,
      "outputs": []
    },
    {
      "cell_type": "code",
      "source": [
        "history = model.fit(\n",
        "    train_images,\n",
        "    validation_data=val_images,\n",
        "    epochs=100,\n",
        "    callbacks=[\n",
        "        tf.keras.callbacks.EarlyStopping(\n",
        "            monitor='val_loss',\n",
        "            patience=3,\n",
        "            restore_best_weights=True\n",
        "        )\n",
        "    ]\n",
        ")"
      ],
      "metadata": {
        "colab": {
          "base_uri": "https://localhost:8080/"
        },
        "id": "MGPp1XPmr2u_",
        "outputId": "3f9167b2-c91c-4d9f-ba6e-c0aa7612b31e"
      },
      "execution_count": 21,
      "outputs": [
        {
          "output_type": "stream",
          "name": "stdout",
          "text": [
            "Epoch 1/100\n",
            "75/75 [==============================] - 28s 303ms/step - loss: 0.7983 - accuracy: 0.8454 - val_loss: 0.3379 - val_accuracy: 0.9183\n",
            "Epoch 2/100\n",
            "75/75 [==============================] - 19s 249ms/step - loss: 0.1823 - accuracy: 0.9521 - val_loss: 0.2225 - val_accuracy: 0.9417\n",
            "Epoch 3/100\n",
            "75/75 [==============================] - 19s 257ms/step - loss: 0.1099 - accuracy: 0.9692 - val_loss: 0.1102 - val_accuracy: 0.9750\n",
            "Epoch 4/100\n",
            "75/75 [==============================] - 21s 282ms/step - loss: 0.0749 - accuracy: 0.9787 - val_loss: 0.1493 - val_accuracy: 0.9667\n",
            "Epoch 5/100\n",
            "75/75 [==============================] - 19s 255ms/step - loss: 0.0502 - accuracy: 0.9833 - val_loss: 0.1078 - val_accuracy: 0.9717\n",
            "Epoch 6/100\n",
            "75/75 [==============================] - 19s 255ms/step - loss: 0.0365 - accuracy: 0.9892 - val_loss: 0.1076 - val_accuracy: 0.9717\n",
            "Epoch 7/100\n",
            "75/75 [==============================] - 21s 277ms/step - loss: 0.0289 - accuracy: 0.9896 - val_loss: 0.1267 - val_accuracy: 0.9700\n",
            "Epoch 8/100\n",
            "75/75 [==============================] - 17s 231ms/step - loss: 0.0229 - accuracy: 0.9933 - val_loss: 0.1365 - val_accuracy: 0.9667\n",
            "Epoch 9/100\n",
            "75/75 [==============================] - 17s 232ms/step - loss: 0.0182 - accuracy: 0.9937 - val_loss: 0.1187 - val_accuracy: 0.9717\n"
          ]
        }
      ]
    },
    {
      "cell_type": "markdown",
      "source": [
        "# Ploting Model Accuracy dan Model Loss"
      ],
      "metadata": {
        "id": "hy6eEAkYx87v"
      }
    },
    {
      "cell_type": "code",
      "source": [
        "import matplotlib.pyplot as plt\n",
        "\n",
        "plt.plot(history.history['accuracy'])\n",
        "plt.plot(history.history['val_accuracy'])\n",
        "plt.title('model accuracy')\n",
        "plt.ylabel('accuracy')\n",
        "plt.xlabel('epoch')\n",
        "plt.legend(['Train', 'Validation'], loc='upper left')\n",
        "plt.show()"
      ],
      "metadata": {
        "colab": {
          "base_uri": "https://localhost:8080/",
          "height": 295
        },
        "id": "_40y6PAXv4vd",
        "outputId": "fabfa12d-9899-4a45-e527-ba4ce8a7ddee"
      },
      "execution_count": 22,
      "outputs": [
        {
          "output_type": "display_data",
          "data": {
            "text/plain": [
              "<Figure size 432x288 with 1 Axes>"
            ],
            "image/png": "[encoded data removed]"
          },
          "metadata": {
            "needs_background": "light"
          }
        }
      ]
    },
    {
      "cell_type": "code",
      "source": [
        "plt.plot(history.history['loss'])\n",
        "plt.plot(history.history['val_loss'])\n",
        "plt.title('model loss')\n",
        "plt.ylabel('loss')\n",
        "plt.xlabel('epoch')\n",
        "plt.legend(['Train', 'Validation'], loc='upper left')\n",
        "plt.show()"
      ],
      "metadata": {
        "colab": {
          "base_uri": "https://localhost:8080/",
          "height": 295
        },
        "id": "NRouhbGWwVgy",
        "outputId": "3506f26b-bddf-4986-8bae-c2963a7842fc"
      },
      "execution_count": 23,
      "outputs": [
        {
          "output_type": "display_data",
          "data": {
            "text/plain": [
              "<Figure size 432x288 with 1 Axes>"
            ],
            "image/png": "[encoded data removed]"
          },
          "metadata": {
            "needs_background": "light"
          }
        }
      ]
    },
    {
      "cell_type": "markdown",
      "source": [
        "# Convert Model ke TF-Lite"
      ],
      "metadata": {
        "id": "c6YplA4-yH-8"
      }
    },
    {
      "cell_type": "code",
      "source": [
        "export_dir = 'saved_model/'\n",
        "tf.saved_model.save(model, export_dir)"
      ],
      "metadata": {
        "colab": {
          "base_uri": "https://localhost:8080/"
        },
        "id": "E7BUBig8tuGW",
        "outputId": "9eaa2d2f-f3a4-4b4c-d69d-ed7516f62054"
      },
      "execution_count": 24,
      "outputs": [
        {
          "output_type": "stream",
          "name": "stderr",
          "text": [
            "WARNING:absl:Found untraced functions such as _jit_compiled_convolution_op, _jit_compiled_convolution_op, _jit_compiled_convolution_op, _jit_compiled_convolution_op, _jit_compiled_convolution_op while saving (showing 5 of 13). These functions will not be directly callable after loading.\n"
          ]
        }
      ]
    },
    {
      "cell_type": "code",
      "source": [
        "import pathlib\n",
        "converter = tf.lite.TFLiteConverter.from_saved_model(export_dir)\n",
        "tflite_model = converter.convert()\n",
        "\n",
        "tflite_model_file = pathlib.Path('hasil.tflite')\n",
        "tflite_model_file.write_bytes(tflite_model)"
      ],
      "metadata": {
        "colab": {
          "base_uri": "https://localhost:8080/"
        },
        "id": "v4P06XM7uRRP",
        "outputId": "5fc79e74-77b2-4373-f190-7ad8770f8bb3"
      },
      "execution_count": 25,
      "outputs": [
        {
          "output_type": "execute_result",
          "data": {
            "text/plain": [
              "58874772"
            ]
          },
          "metadata": {},
          "execution_count": 25
        }
      ]
    }
  ]
}